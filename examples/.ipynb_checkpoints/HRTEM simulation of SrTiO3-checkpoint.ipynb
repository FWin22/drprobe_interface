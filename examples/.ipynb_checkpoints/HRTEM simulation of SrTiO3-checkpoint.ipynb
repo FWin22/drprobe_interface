{
 "cells": [
  {
   "cell_type": "markdown",
   "metadata": {},
   "source": [
    "Example for HRTEM image simulation of SrTiO$_3$ along the [001] zone axis"
   ]
  },
  {
   "cell_type": "code",
   "execution_count": 1,
   "metadata": {
    "ExecuteTime": {
     "end_time": "2019-05-03T13:44:08.690091Z",
     "start_time": "2019-05-03T13:44:06.391883Z"
    }
   },
   "outputs": [],
   "source": [
    "# Import necesary packages \n",
    "import numpy as np\n",
    "import matplotlib.pyplot as plt\n",
    "import drprobe as drp\n",
    "%matplotlib inline"
   ]
  },
  {
   "cell_type": "code",
   "execution_count": 16,
   "metadata": {
    "ExecuteTime": {
     "end_time": "2019-05-03T13:58:55.874993Z",
     "start_time": "2019-05-03T13:58:55.869263Z"
    }
   },
   "outputs": [],
   "source": [
    "# Read lattice parameters from cel file\n",
    "a, b, c = np.genfromtxt('SrTiO3_001_ref.cel', skip_header=1, skip_footer=1, usecols=(1, 2, 3))[0]"
   ]
  },
  {
   "cell_type": "code",
   "execution_count": 4,
   "metadata": {
    "ExecuteTime": {
     "end_time": "2019-05-03T13:51:32.046018Z",
     "start_time": "2019-05-03T13:51:31.941861Z"
    }
   },
   "outputs": [
    {
     "name": "stdout",
     "output_type": "stream",
     "text": [
      "Performed celslc with the following command:\n",
      " celslc -cel SrTiO3_001_ref.cel  -slc slc/STO -nx 40 -ny 40 -nz 2 -ht 300 -dwf -abs -pot\n",
      "\n",
      " +---------------------------------------------------+\n",
      " | Program [celslc]                                  |\n",
      " | Version: 0.70b 64-bit  -  2018 Nov  28            |\n",
      " | Author : Dr. J. Barthel, ju.barthel@fz-juelich.de |\n",
      " |          Forschungszentrum Juelich GmbH, GERMANY  |\n",
      " | License: GNU GPL 3 <http://www.gnu.org/licenses/> |\n",
      " +---------------------------------------------------+\n",
      "\n",
      "\n",
      "Creating 2 equidistant slices of the super-cell.\n",
      "Using Debye-Waller factors.\n",
      "Using absorption potentials.\n",
      "Exporting potentials to files *.pot.\n",
      "Output in slice files are phase gratings.\n",
      "Sorting slices in default order from z/c=0 to z/c=1.\n",
      "Input structure parameter file: CEL format (default).\n",
      "Input electron energy: 300.00 keV\n",
      "Input electron wavelength: 1.9687 pm\n",
      "Interaction constant: 0.41120E-02 (eV nm)^(-1) (2pi m0 e / h^2 * lambda)\n",
      "Using atomic form factors of Weickenmeier & Kohl.\n",
      "Loading data from super-cell file [SrTiO3_001_ref.cel].\n",
      "Checking input super-cell parameters:\n",
      "- super-cell volume = 5.9364639E-02 nm^3.\n",
      "- super-cell angle alpha = 90.00000 deg.\n",
      "- super-cell angle beta  = 90.00000 deg.\n",
      "- super-cell angle gamma = 90.00000 deg.\n",
      "- Input super-cell is orthogonal.\n",
      "- occupancy test passed.\n",
      "- thermal displacement parameter test passed.\n",
      "Info on used super-cell:\n",
      "Super-cell size (x,y,z) in nm:   0.39010000  0.39010000  0.39010000\n",
      "Super-cell sampling (dx,dy) in nm:   0.00975250  0.00975250\n",
      "User defined equidistant sampling along z with 2 slices.\n",
      "Total number of atoms in super-cell:     5\n",
      "Preparing scattering amplitudes for all atom types.\n",
      "Found      3 atomic individuals to prepare.\n",
      "Calculating real and imaginary scattering amplitudes.\n",
      "Preparing data for Z =  38 and DW-prm =   0.00623000.\n",
      "Preparing data for Z =  22 and DW-prm =   0.00440600.\n",
      "Preparing data for Z =   8 and DW-prm =   0.00708500.\n",
      "Preparing 2d form factor arrays.\n",
      "- mean inner potential: 22.34422 V\n",
      "- wavelength corrected for refraction: 1.96866 pm\n",
      "- wavelength in vacuum               : 1.96875 pm\n",
      "Distributing atoms in slices.\n",
      "- generated 2 partitions of the super-cell.\n",
      "Allocating slice memory.\n",
      "Calculating phase gratings ...\n",
      "- slice #001, 2 atoms, 0.195 nm thick\n",
      "  content: Sr2+_1 O2-_1\u0000\u0000\u0000\u0000\u0000\u0000\u0000\u0000\u0000\u0000\u0000\u0000\u0000\u0000\u0000\u0000\u0000\u0000\u0000\u0000\u0000\u0000\u0000\u0000\u0000\u0000\u0000\u0000\n",
      "  slice phase-grating data saved to file [slc/STO_001.sli].\n",
      "- slice #002, 3 atoms, 0.195 nm thick\n",
      "  content: Ti4+_1 O2-_2\u0000\u0000\u0000\u0000\u0000\u0000\u0000\u0000\u0000\u0000\u0000\u0000\u0000\u0000\u0000\u0000\u0000\u0000\u0000\u0000\u0000\u0000\u0000\u0000\u0000\u0000\u0000\u0000\n",
      "  slice phase-grating data saved to file [slc/STO_002.sli].\n",
      "Deallocating slice memory.\n",
      "Saving slice parameters to file [slc/STO.prm].\n",
      "Finished.\n",
      "\n",
      "\n",
      "\n"
     ]
    }
   ],
   "source": [
    "# Set up phase gratings\n",
    "nx, ny = 40, 40\n",
    "nz = 2\n",
    "drp.commands.celslc(cel_file='SrTiO3_001_ref.cel', # location of cel file\n",
    "                    slice_name='slc/STO', # target file names\n",
    "                    nx=nx,        # number of sampling points along x\n",
    "                    ny=ny,        # number of sampling points along y\n",
    "                    nz=nz,         # number of sampling points along z\n",
    "                    ht=300,       # high tension\n",
    "                    absorb=True,  # apply absorptive form factors\n",
    "                    dwf=True,     # apply Debye-Waller factors\n",
    "                    output=True,  # Command line output (prints executed command)\n",
    "                    pot=True      # Saves potentials\n",
    "                   )"
   ]
  },
  {
   "cell_type": "code",
   "execution_count": 12,
   "metadata": {
    "ExecuteTime": {
     "end_time": "2019-05-03T13:55:43.325254Z",
     "start_time": "2019-05-03T13:55:42.974548Z"
    },
    "code_folding": []
   },
   "outputs": [
    {
     "data": {
      "image/png": "[encoded data removed]",
      "text/plain": [
       "<Figure size 576x288 with 2 Axes>"
      ]
     },
     "metadata": {
      "needs_background": "light"
     },
     "output_type": "display_data"
    }
   ],
   "source": [
    "# Display potentials\n",
    "slc_1 = np.fromfile('slc/STO_001.pot', dtype='complex64').reshape((nx, ny))\n",
    "slc_2 = np.fromfile('slc/STO_002.pot', dtype='complex64').reshape((nx, ny))\n",
    "\n",
    "fig, axs = plt.subplots(1, 2, figsize=(8, 4))\n",
    "axs[0].imshow(np.real(slc_1))\n",
    "axs[1].imshow(np.real(slc_2))\n",
    "axs[0].set_title('Slice 1')\n",
    "axs[1].set_title('Slice 2');"
   ]
  },
  {
   "cell_type": "code",
   "execution_count": 21,
   "metadata": {
    "ExecuteTime": {
     "end_time": "2019-05-03T14:04:13.880692Z",
     "start_time": "2019-05-03T14:04:13.868970Z"
    }
   },
   "outputs": [],
   "source": [
    "# Create Parameter file for multislice\n",
    "msa = drp.msaprm.MsaPrm()\n",
    "\n",
    "# Setup (fundamental) MSA parameters\n",
    "msa.wavelength = 0.00197  # wavelength (in nm) for 300 keV electrons\n",
    "msa.h_scan_frame_size = a \n",
    "msa.v_scan_frame_size = b \n",
    "msa.scan_columns = nx\n",
    "msa.scan_rows = ny\n",
    "msa.tilt_x = 1 # object tilt along x in degree\n",
    "msa.slice_files = 'slc/STO' # location of phase gratings\n",
    "msa.number_of_slices = 2 # Number of slices in phase gratings\n",
    "msa.det_readout_period = 2 # Readout after every 2 slices\n",
    "msa.tot_number_of_slices = 10 # Corresponds to 5 layers / unit cells of SrTiO3\n",
    "\n",
    "\n",
    "# Save prm file\n",
    "msa.save_msa_prm('msa.prm')"
   ]
  },
  {
   "cell_type": "code",
   "execution_count": 25,
   "metadata": {
    "ExecuteTime": {
     "end_time": "2019-05-03T14:06:13.438234Z",
     "start_time": "2019-05-03T14:06:13.386708Z"
    }
   },
   "outputs": [
    {
     "name": "stdout",
     "output_type": "stream",
     "text": [
      "Performed msa with the following command:\n",
      " msa -prm msa.prm -out wav/STO.wav /ctem\n",
      "\n",
      " +---------------------------------------------------+\n",
      " | Program: [msa] MultiSlice Algorithm               |\n",
      " | Version: 0.93b 64-bit  -  2019 Apr  10  -         |\n",
      " | Author : Dr. J. Barthel, ju.barthel@fz-juelich.de |\n",
      " |          Forschungszentrum Juelich GmbH, GERMANY  |\n",
      " | License: GNU GPL 3 <http://www.gnu.org/licenses/> |\n",
      " +---------------------------------------------------+\n",
      "\n",
      "\n",
      "Loading parameter file.\n",
      "Begin of multislice calculations.\n",
      "End of multislice calculations.\n",
      "\n",
      "\n",
      "\n"
     ]
    }
   ],
   "source": [
    "# Execute multislice\n",
    "drp.commands.msa(prm_file='msa.prm', \n",
    "                 output_file='wav/STO.wav',\n",
    "                 ctem=True, # Flag for conventional TEM simulation (otherwise calculates STEM images)\n",
    "                 output=True)"
   ]
  },
  {
   "cell_type": "code",
   "execution_count": 44,
   "metadata": {
    "ExecuteTime": {
     "end_time": "2019-05-03T14:14:47.025501Z",
     "start_time": "2019-05-03T14:14:47.013882Z"
    }
   },
   "outputs": [],
   "source": [
    "# Create Parameter file for wavimg\n",
    "wavimg = drp.WavimgPrm()\n",
    "sl = 2 # Perform simulation for slice # 2\n",
    "\n",
    "# Setup (fundamental) MSA parameters\n",
    "wavimg.high_tension = 300\n",
    "wavimg.mtf = (0, 0, '') \n",
    "wavimg.oa_radius = 25 # Apply objective aperture [mrad]\n",
    "wavimg.vibration = (1, 0.016, 0.016, 0) # Apply isotropic image spread of 16 pm rms displacement\n",
    "wavimg.spat_coherence = (1, 0.4) # Apply spatial coherence\n",
    "wavimg.wave_sampling = (a / nx, b / ny)\n",
    "wavimg.wave_files = 'wav/STO_sl{:03d}.wav'.format(sl)\n",
    "wavimg.wave_dim = (nx, ny)\n",
    "\n",
    "wavimg.aberrations_dict = {1: (1, 0)} # apply defocus of 1 nm\n",
    "\n",
    "wavimg.output_files = 'img/STO_sl{:03d}.dat'.format(sl) # Simulate for slice number \"sl\"\n",
    "wavimg.output_format = 0\n",
    "wavimg.flag_spec_frame = 1\n",
    "wavimg.output_dim = (nx, ny)\n",
    "wavimg.output_sampling = (a / nx, b / ny)\n",
    "\n",
    "# Save wavimg Parameter file\n",
    "wavimg.save_wavimg_prm('wavimg.prm')"
   ]
  },
  {
   "cell_type": "code",
   "execution_count": 45,
   "metadata": {
    "ExecuteTime": {
     "end_time": "2019-05-03T14:14:47.321818Z",
     "start_time": "2019-05-03T14:14:47.285314Z"
    }
   },
   "outputs": [
    {
     "name": "stdout",
     "output_type": "stream",
     "text": [
      "Performed wavimg with the following command:\n",
      " wavimg -prm wavimg.prm\n",
      "\n",
      " +---------------------------------------------------+\n",
      " | Program: [wavimg]                                 |\n",
      " | Version: 0.70b 64-bit  -  2018 Sept 14  -         |\n",
      " | Author : Dr. J. Barthel, ju.barthel@fz-juelich.de |\n",
      " |          Forschungszentrum Juelich GmbH, GERMANY  |\n",
      " | License: GNU GPL 3 <http://www.gnu.org/licenses/> |\n",
      " +---------------------------------------------------+\n",
      "\n",
      "\n",
      "Loading parameters from file [wavimg.prm].\n",
      "Finished loading parameters.\n",
      "- internal array size:   128\n",
      "Parameters checked successfully.\n",
      "Loading wave function data from file [wav/STO_sl002.wav].\n",
      "Creating TEM image from wave.\n",
      "Image calculation by explicit focal integration.\n",
      "0-----------------------------------------------------------1\n",
      "************************************************************* \n",
      "Extracting image frame data.\n",
      "Applying envelopes to image data.\n",
      "Saving image data to file [img/STO_sl002.dat].\n",
      "Data format: 32-bit float\n",
      "Finished all calculations.\n",
      "\n",
      "Number of warnings:   0,  number of errors:   0.\n",
      "\n",
      "\n"
     ]
    }
   ],
   "source": [
    "# Execute wavimg\n",
    "drp.commands.wavimg('wavimg.prm', output=True)"
   ]
  },
  {
   "cell_type": "code",
   "execution_count": 46,
   "metadata": {
    "ExecuteTime": {
     "end_time": "2019-05-03T14:14:47.853473Z",
     "start_time": "2019-05-03T14:14:47.623879Z"
    }
   },
   "outputs": [
    {
     "data": {
      "image/png": "[encoded data removed]",
      "text/plain": [
       "<Figure size 432x288 with 1 Axes>"
      ]
     },
     "metadata": {
      "needs_background": "light"
     },
     "output_type": "display_data"
    }
   ],
   "source": [
    "# Display simulated HRTEM image\n",
    "img = np.fromfile('img/STO_sl002.dat', dtype='float32').reshape((nx, ny))\n",
    "plt.imshow(img, cmap='gray');"
   ]
  },
  {
   "cell_type": "code",
   "execution_count": null,
   "metadata": {},
   "outputs": [],
   "source": []
  }
 ],
 "metadata": {
  "hide_input": false,
  "kernelspec": {
   "display_name": "Python 3",
   "language": "python",
   "name": "python3"
  },
  "language_info": {
   "codemirror_mode": {
    "name": "ipython",
    "version": 3
   },
   "file_extension": ".py",
   "mimetype": "text/x-python",
   "name": "python",
   "nbconvert_exporter": "python",
   "pygments_lexer": "ipython3",
   "version": "3.7.1"
  },
  "latex_envs": {
   "bibliofile": "biblio.bib",
   "cite_by": "apalike",
   "current_citInitial": 1,
   "eqLabelWithNumbers": true,
   "eqNumInitial": 0
  },
  "toc": {
   "toc_cell": false,
   "toc_number_sections": true,
   "toc_threshold": 6,
   "toc_window_display": false
  }
 },
 "nbformat": 4,
 "nbformat_minor": 2
}
